{
  "nbformat": 4,
  "nbformat_minor": 0,
  "metadata": {
    "colab": {
      "provenance": [],
      "collapsed_sections": []
    },
    "kernelspec": {
      "name": "python3",
      "display_name": "Python 3"
    },
    "language_info": {
      "name": "python"
    }
  },
  "cells": [
    {
      "cell_type": "markdown",
      "source": [
        "ASSIGNMENT - 1"
      ],
      "metadata": {
        "id": "FdUIDNQf3gIr"
      }
    },
    {
      "cell_type": "markdown",
      "source": [
        "Import libraries"
      ],
      "metadata": {
        "id": "p17P80Eg3gWb"
      }
    },
    {
      "cell_type": "code",
      "execution_count": null,
      "metadata": {
        "id": "ZhxAp-Pj3NSA"
      },
      "outputs": [],
      "source": [
        "#Here are some libraries you're likely to use. You might want/need others as well.\n",
        "import re\n",
        "import os\n",
        "import tarfile\n",
        "import sys\n",
        "from random import random\n",
        "from math import log\n",
        "from collections import defaultdict\n",
        "\n",
        "\n",
        "tri_counts=defaultdict(int) #counts of all trigrams in input"
      ]
    },
    {
      "cell_type": "code",
      "source": [
        "with open(\"/content/drive/MyDrive/Colab Notebooks/assignment1-data.tgz\") as f:\n",
        "  print(\"hi\")"
      ],
      "metadata": {
        "id": "LUKBHSUt5g_o",
        "outputId": "7f034923-ae20-4439-b251-958f6e237861",
        "colab": {
          "base_uri": "https://localhost:8080/"
        }
      },
      "execution_count": null,
      "outputs": [
        {
          "output_type": "stream",
          "name": "stdout",
          "text": [
            "hi\n"
          ]
        }
      ]
    },
    {
      "cell_type": "code",
      "source": [
        "%%time\n",
        "\n",
        "f = tarfile.open(\"/content/drive/MyDrive/Colab Notebooks/assignment1-data.tgz\")\n",
        "f_english = f.extractfile(\"training.en\").read()\n"
      ],
      "metadata": {
        "id": "8IIygIfR55Y_",
        "colab": {
          "base_uri": "https://localhost:8080/"
        },
        "outputId": "b48ade33-ae0d-4646-9d19-903fe353a32c"
      },
      "execution_count": null,
      "outputs": [
        {
          "output_type": "stream",
          "name": "stdout",
          "text": [
            "CPU times: user 8.87 ms, sys: 1.11 ms, total: 9.99 ms\n",
            "Wall time: 15 ms\n"
          ]
        }
      ]
    },
    {
      "cell_type": "code",
      "source": [
        "%%time\n",
        "f_english_opened = open(\"training.en\")"
      ],
      "metadata": {
        "colab": {
          "base_uri": "https://localhost:8080/"
        },
        "id": "fh5cB_yx8hFM",
        "outputId": "56ded25d-b6a9-48d9-a663-4fa42513c85b"
      },
      "execution_count": null,
      "outputs": [
        {
          "output_type": "stream",
          "name": "stdout",
          "text": [
            "CPU times: user 490 µs, sys: 1.01 ms, total: 1.5 ms\n",
            "Wall time: 1.51 ms\n"
          ]
        }
      ]
    },
    {
      "cell_type": "code",
      "source": [
        "with open(\"training.en\") as f:\n",
        "  corpus_english = f.read()\n",
        "  #print(corpus_english[:10])\n",
        "  "
      ],
      "metadata": {
        "id": "Rk6EIc-j-LeB"
      },
      "execution_count": null,
      "outputs": []
    },
    {
      "cell_type": "markdown",
      "source": [
        "Preprocessing - tokenisation"
      ],
      "metadata": {
        "id": "aqUVfzm9_swC"
      }
    },
    {
      "cell_type": "code",
      "source": [
        "#lowercasing\n",
        "def preprocess_line(line):\n",
        "  line = re.sub(r'[^a-zA-Z0-9.\\s]',r'',line).lower()\n",
        "  line = re.sub(r'[0-9]',r'0',line)\n",
        "  return line\n",
        "#print(clean_bible_content)\n",
        "#print(clean_corpus_english)\n",
        "#sentences = clean_corpus_english.split(\"\\n\")\n",
        "#print(tokens)\n",
        "#print(len(sentences))\n",
        "preprocess_line(\"hello This is 345._^4#here\")\n"
      ],
      "metadata": {
        "colab": {
          "base_uri": "https://localhost:8080/",
          "height": 37
        },
        "id": "b-VemPr1_u-e",
        "outputId": "b9f88e14-b736-47d2-b06f-547a50e03844"
      },
      "execution_count": null,
      "outputs": [
        {
          "output_type": "execute_result",
          "data": {
            "text/plain": [
              "'hello this is 000.0here'"
            ],
            "application/vnd.google.colaboratory.intrinsic+json": {
              "type": "string"
            }
          },
          "metadata": {},
          "execution_count": 52
        }
      ]
    },
    {
      "cell_type": "code",
      "source": [
        "sentences[:30]"
      ],
      "metadata": {
        "colab": {
          "base_uri": "https://localhost:8080/"
        },
        "id": "FgJJuZ4DAeA9",
        "outputId": "ce44196b-6dc5-4093-99d2-5304d3d41104"
      },
      "execution_count": null,
      "outputs": [
        {
          "output_type": "execute_result",
          "data": {
            "text/plain": [
              "['resumption of the session',\n",
              " 'i declare resumed the session of the european parliament adjourned on friday 00 december 0000 and i would like once again to wish you a happy new year in the hope that you enjoyed a pleasant festive period.',\n",
              " 'although as you will have seen the dreaded millennium bug failed to materialise still the people in a number of countries suffered a series of natural disasters that truly were dreadful.',\n",
              " 'you have requested a debate on this subject in the course of the next few days during this partsession.',\n",
              " 'in the meantime i should like to observe a minute s silence as a number of members have requested on behalf of all the victims concerned particularly those of the terrible storms in the various countries of the european union.',\n",
              " 'please rise then for this minute s silence.',\n",
              " 'the house rose and observed a minute s silence',\n",
              " 'madam president on a point of order.',\n",
              " 'you will be aware from the press and television that there have been a number of bomb explosions and killings in sri lanka.',\n",
              " 'one of the people assassinated very recently in sri lanka was mr kumar ponnambalam who had visited the european parliament just a few months ago.',\n",
              " 'would it be appropriate for you madam president to write a letter to the sri lankan president expressing parliaments regret at his and the other violent deaths in sri lanka and urging her to do everything she possibly can to seek a peaceful reconciliation to a very difficult situation',\n",
              " 'yes mr evans i feel an initiative of the type you have just suggested would be entirely appropriate.',\n",
              " 'if the house agrees i shall do as mr evans has suggested.',\n",
              " 'madam president on a point of order.',\n",
              " 'i would like your advice about rule 000 concerning inadmissibility.',\n",
              " 'my question relates to something that will come up on thursday and which i will then raise again.',\n",
              " 'the cunha report on multiannual guidance programmes comes before parliament on thursday and contains a proposal in paragraph 0 that a form of quota penalties should be introduced for countries which fail to meet their fleet reduction targets annually.',\n",
              " 'it says that this should be done despite the principle of relative stability.',\n",
              " 'i believe that the principle of relative stability is a fundamental legal principle of the common fisheries policy and a proposal to subvert it would be legally inadmissible.',\n",
              " 'i want to know whether one can raise an objection of that kind to what is merely a report not a legislative proposal and whether that is something i can competently do on thursday.',\n",
              " 'that is precisely the time when you may if you wish raise this question i.e. on thursday prior to the start of the presentation of the report.',\n",
              " 'madam president coinciding with this year s first partsession of the european parliament a date has been set unfortunately for next thursday in texas in america for the execution of a young 00 yearold man who has been sentenced to death.',\n",
              " 'we shall call him mr hicks.',\n",
              " 'at the request of a french member mr zimeray a petition has already been presented which many people signed including myself.',\n",
              " 'however i would ask you in accordance with the line which is now constantly followed by the european parliament and by the whole of the european community to make representations using the weight of your prestigious office and the institution you represent to the president and to the governor of texas mr bush who has the power to order a stay of execution and to reprieve the condemned person.',\n",
              " 'this is all in accordance with the principles that we have always upheld.',\n",
              " 'thank you mr segni i shall do so gladly.',\n",
              " 'indeed it is quite in keeping with the positions this house has always adopted.',\n",
              " 'madam president i should like to draw your attention to a case in which this parliament has consistently shown an interest.',\n",
              " 'it is the case of alexander nikitin.']"
            ]
          },
          "metadata": {},
          "execution_count": 51
        }
      ]
    },
    {
      "cell_type": "code",
      "source": [],
      "metadata": {
        "id": "06IywZ_kBYjA"
      },
      "execution_count": null,
      "outputs": []
    }
  ]
}